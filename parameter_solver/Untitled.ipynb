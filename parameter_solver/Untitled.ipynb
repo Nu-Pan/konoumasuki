{
 "cells": [
  {
   "cell_type": "code",
   "execution_count": 1,
   "id": "ae031054-cc06-4cc7-b799-f0d8952b2f6f",
   "metadata": {},
   "outputs": [],
   "source": [
    "from sympy import *\n",
    "from parameter_solver import *\n",
    "from typing import List\n",
    "init_printing()"
   ]
  },
  {
   "cell_type": "code",
   "execution_count": 11,
   "id": "7643fc31-c5b0-409d-afd9-affcdc89caec",
   "metadata": {},
   "outputs": [],
   "source": [
    "def solve_disp(equations: List[Eq], sym: Symbol):\n",
    "    result_list = solve(equations, sym)\n",
    "    for result_tuple in result_list:\n",
    "        for result in result_tuple:\n",
    "            print(result)"
   ]
  },
  {
   "cell_type": "code",
   "execution_count": null,
   "id": "38490682-2a11-4e46-944a-11ccf21c65df",
   "metadata": {},
   "outputs": [],
   "source": []
  },
  {
   "cell_type": "code",
   "execution_count": 10,
   "id": "8a1615db-d641-48a8-900b-f60d025d87fd",
   "metadata": {},
   "outputs": [
    {
     "name": "stdout",
     "output_type": "stream",
     "text": [
      "1.25e-10*(-8000000000.0*距離適性補正**2*(スキル補正スピード + バ場状態パラ補正 + 育成モード補正) + 4410000000000.0*(-0.952380952380952*スパート目標速度 + 1.0e-5*レース距離 + 基礎目標速度 + 0.18)**2)/(やる気補正*基本速度補正*距離適性補正**2)\n"
     ]
    }
   ],
   "source": [
    "solve_disp(equations, スピード)"
   ]
  },
  {
   "cell_type": "code",
   "execution_count": null,
   "id": "80784927-6061-4c39-bf00-51038551aee7",
   "metadata": {},
   "outputs": [],
   "source": []
  }
 ],
 "metadata": {
  "kernelspec": {
   "display_name": "Python 3 (ipykernel)",
   "language": "python",
   "name": "python3"
  },
  "language_info": {
   "codemirror_mode": {
    "name": "ipython",
    "version": 3
   },
   "file_extension": ".py",
   "mimetype": "text/x-python",
   "name": "python",
   "nbconvert_exporter": "python",
   "pygments_lexer": "ipython3",
   "version": "3.8.10"
  }
 },
 "nbformat": 4,
 "nbformat_minor": 5
}
