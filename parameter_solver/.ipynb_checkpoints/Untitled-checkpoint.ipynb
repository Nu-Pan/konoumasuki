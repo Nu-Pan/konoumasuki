{
 "cells": [
  {
   "cell_type": "code",
   "execution_count": 23,
   "id": "ae031054-cc06-4cc7-b799-f0d8952b2f6f",
   "metadata": {},
   "outputs": [],
   "source": [
    "from sympy import *\n",
    "from parameter_solver import *\n",
    "from typing import List\n",
    "init_printing()"
   ]
  },
  {
   "cell_type": "code",
   "execution_count": 24,
   "id": "7643fc31-c5b0-409d-afd9-affcdc89caec",
   "metadata": {},
   "outputs": [],
   "source": [
    "def solve_disp(equations: List[Eq], sym: Symbol):\n",
    "    result_list = solve(equations, sym)\n",
    "    for result_tuple in result_list:\n",
    "        for result in result_tuple:\n",
    "            result"
   ]
  },
  {
   "cell_type": "code",
   "execution_count": 25,
   "id": "8a1615db-d641-48a8-900b-f60d025d87fd",
   "metadata": {},
   "outputs": [],
   "source": [
    "solve_disp(equations, スピード)"
   ]
  },
  {
   "cell_type": "code",
   "execution_count": null,
   "id": "ce47f262-0ede-4f0b-af0b-790a43e45a59",
   "metadata": {},
   "outputs": [],
   "source": []
  }
 ],
 "metadata": {
  "kernelspec": {
   "display_name": "Python 3 (ipykernel)",
   "language": "python",
   "name": "python3"
  },
  "language_info": {
   "codemirror_mode": {
    "name": "ipython",
    "version": 3
   },
   "file_extension": ".py",
   "mimetype": "text/x-python",
   "name": "python",
   "nbconvert_exporter": "python",
   "pygments_lexer": "ipython3",
   "version": "3.8.10"
  }
 },
 "nbformat": 4,
 "nbformat_minor": 5
}
